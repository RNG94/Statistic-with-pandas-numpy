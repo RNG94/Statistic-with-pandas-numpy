{
 "cells": [
  {
   "cell_type": "code",
   "execution_count": 65,
   "id": "634848e4",
   "metadata": {},
   "outputs": [],
   "source": [
    "import numpy as np\n",
    "from scipy import stats\n",
    "import matplotlib.pyplot as plt\n",
    "import seaborn as sns\n",
    "import pandas as pd"
   ]
  },
  {
   "cell_type": "markdown",
   "id": "fdd64e00",
   "metadata": {},
   "source": [
    "EXERCISE 1. What is the normal body temperature for healthy humans? A random sample of 130 healthy human body temperatures provided by Allen Shoemaker yielded 98.25 degrees and standard deviation 0.73 degrees. \n",
    "\n",
    "Give a 99% confidence interval for the average body temperature of healthy people."
   ]
  },
  {
   "cell_type": "markdown",
   "id": "ad608cfc",
   "metadata": {},
   "source": [
    "ALIŞTIRMA 1. Sağlıklı insanlar için normal vücut sıcaklığı nedir? Allen Shoemaker tarafından sağlanan 130 sağlıklı insan vücut sıcaklığından rastgele bir örnek 98.25 derece ve standart sapma 0.73 derece verdi.\n",
    "\n",
    "Sağlıklı insanların ortalama vücut ısısı için %99 güven aralığı verin."
   ]
  },
  {
   "cell_type": "code",
   "execution_count": 3,
   "id": "5fdee24a",
   "metadata": {},
   "outputs": [],
   "source": [
    "n = 130\n",
    "mu = 98.25\n",
    "s = 0.73\n",
    "alpha = 0.01"
   ]
  },
  {
   "cell_type": "code",
   "execution_count": 7,
   "id": "7af9aa54",
   "metadata": {},
   "outputs": [
    {
     "data": {
      "text/plain": [
       "0.06402523540941313"
      ]
     },
     "execution_count": 7,
     "metadata": {},
     "output_type": "execute_result"
    }
   ],
   "source": [
    "sem = s / np.sqrt(n) # standard error of the mean\n",
    "sem"
   ]
  },
  {
   "cell_type": "code",
   "execution_count": 9,
   "id": "4ccb9129",
   "metadata": {},
   "outputs": [
    {
     "data": {
      "text/plain": [
       "0.1651851073562859"
      ]
     },
     "execution_count": 9,
     "metadata": {},
     "output_type": "execute_result"
    }
   ],
   "source": [
    "moe = 2.58 * sem\n",
    "moe"
   ]
  },
  {
   "cell_type": "code",
   "execution_count": 19,
   "id": "7ad6c4f5",
   "metadata": {},
   "outputs": [
    {
     "data": {
      "text/plain": [
       "(98.08481489264372, 98.41518510735628)"
      ]
     },
     "execution_count": 19,
     "metadata": {},
     "output_type": "execute_result"
    }
   ],
   "source": [
    "low_lim = mu - moe\n",
    "up_lim = mu + moe\n",
    "(low_lim, up_lim)"
   ]
  },
  {
   "cell_type": "code",
   "execution_count": 21,
   "id": "9409c425",
   "metadata": {},
   "outputs": [
    {
     "data": {
      "text/plain": [
       "(98.08508192246582, 98.41491807753418)"
      ]
     },
     "execution_count": 21,
     "metadata": {},
     "output_type": "execute_result"
    }
   ],
   "source": [
    "stats.norm.interval(alpha=0.99, loc = mu, scale=sem)"
   ]
  },
  {
   "cell_type": "code",
   "execution_count": 22,
   "id": "abd24f2c",
   "metadata": {},
   "outputs": [
    {
     "data": {
      "text/plain": [
       "(98.08260738705933, 98.41739261294067)"
      ]
     },
     "execution_count": 22,
     "metadata": {},
     "output_type": "execute_result"
    }
   ],
   "source": [
    "stats.t.interval(alpha=0.99, df=n-1, loc = mu, scale = sem)"
   ]
  },
  {
   "cell_type": "markdown",
   "id": "36b63f3e",
   "metadata": {},
   "source": [
    "EXERCISE 2. The administrators for a hospital wished to estimate the average number of days required for inpatient treatment of patients between the ages of 25 and 34. A random sample of 500 hospital patients between these ages produced a mean and standard deviation equal to 5.4 and 3.1 days, respectively.\n",
    "\n",
    "\n",
    "Construct a 95% confidence interval for the mean length of stay for the population of patients from which the sample was drawn."
   ]
  },
  {
   "cell_type": "markdown",
   "id": "a3252341",
   "metadata": {},
   "source": [
    "ALIŞTIRMA 2. Bir hastanenin yöneticileri, 25 ila 34 yaşları arasındaki hastaların yatarak tedavisi için gereken ortalama gün sayısını tahmin etmek istediler.\n",
    "\n",
    "Bu yaşlar arasındaki 500 hastane hastasından oluşan rastgele bir örneklem, sırasıyla 5.4 ve 3.1 güne eşit bir ortalama ve standart sapma üretti.\n",
    "\n",
    "\n",
    "Örneğin alındığı hasta popülasyonu için ortalama yatış süresi için %95'lik bir güven aralığı oluşturun."
   ]
  },
  {
   "cell_type": "code",
   "execution_count": 23,
   "id": "5a329b42",
   "metadata": {},
   "outputs": [],
   "source": [
    "n = 500\n",
    "mu = 5.4\n",
    "s = 3.1\n",
    "alpha = 0.05"
   ]
  },
  {
   "cell_type": "code",
   "execution_count": 24,
   "id": "079a5a79",
   "metadata": {},
   "outputs": [
    {
     "data": {
      "text/plain": [
       "0.13863621460498696"
      ]
     },
     "execution_count": 24,
     "metadata": {},
     "output_type": "execute_result"
    }
   ],
   "source": [
    "sem = s / np.sqrt(n) # standard error of the mean\n",
    "sem"
   ]
  },
  {
   "cell_type": "code",
   "execution_count": 25,
   "id": "8147c518",
   "metadata": {},
   "outputs": [
    {
     "data": {
      "text/plain": [
       "0.27172698062577444"
      ]
     },
     "execution_count": 25,
     "metadata": {},
     "output_type": "execute_result"
    }
   ],
   "source": [
    "moe = 1.96 * sem\n",
    "moe"
   ]
  },
  {
   "cell_type": "code",
   "execution_count": 26,
   "id": "aae01198",
   "metadata": {},
   "outputs": [
    {
     "data": {
      "text/plain": [
       "(5.128273019374226, 5.671726980625775)"
      ]
     },
     "execution_count": 26,
     "metadata": {},
     "output_type": "execute_result"
    }
   ],
   "source": [
    "low_lim = mu - moe\n",
    "up_lim = mu + moe\n",
    "(low_lim, up_lim)"
   ]
  },
  {
   "cell_type": "code",
   "execution_count": 28,
   "id": "1372bb6d",
   "metadata": {},
   "outputs": [
    {
     "data": {
      "text/plain": [
       "(5.12827801242126, 5.67172198757874)"
      ]
     },
     "execution_count": 28,
     "metadata": {},
     "output_type": "execute_result"
    }
   ],
   "source": [
    "stats.norm.interval(alpha=0.95, loc = mu, scale=sem)"
   ]
  },
  {
   "cell_type": "code",
   "execution_count": 29,
   "id": "d9a9d472",
   "metadata": {},
   "outputs": [
    {
     "data": {
      "text/plain": [
       "(5.127617354510309, 5.672382645489692)"
      ]
     },
     "execution_count": 29,
     "metadata": {},
     "output_type": "execute_result"
    }
   ],
   "source": [
    "stats.t.interval(alpha=0.95, df=n-1, loc = mu, scale = sem)"
   ]
  },
  {
   "cell_type": "markdown",
   "id": "2687135f",
   "metadata": {},
   "source": [
    "HYPOTHESIS TESTING\n",
    "\n",
    "EXERCISE 3. The hourly wages in a particular industry are normally distributed with mean \\\\$13.20 and standard deviation $2.50. A company in this industry employs 40 workers, paying them an average of \\\\$12.20 per hour. Can this company be accused of paying substandard wages? Use an α = .01 level test. (Wackerly, Ex.10.18)\n",
    "\n",
    "CHECK: statistic: -2.5298221281347035, pvalue= 0.005706018193000826"
   ]
  },
  {
   "cell_type": "markdown",
   "id": "9582bccc",
   "metadata": {},
   "source": [
    "HİPOTEZ TESTİ\n",
    "\n",
    "ALIŞTIRMA 3. Belirli bir sektördeki saatlik ücretler ortalama 13.20\\\\$ ve standart sapma 2.50\\\\$ ile normal olarak dağıtılır. Bu sektördeki bir şirket, 40 işçi çalıştırıyor ve onlara saatte ortalama 12,20 dolar ödüyor. Bu şirket standartların altında ücret ödemekle suçlanabilir mi? α = .01 seviye testi kullanın. (Wackerly, Ör.10.18)\n",
    "\n",
    "KONTROL: istatistik: -2,5298221281347035, pdeğer= 0,005706018193000826"
   ]
  },
  {
   "cell_type": "code",
   "execution_count": null,
   "id": "34b70b89",
   "metadata": {},
   "outputs": [],
   "source": [
    "# H0: mu = 12.20\n",
    "# H1: mu < 12.20"
   ]
  },
  {
   "cell_type": "code",
   "execution_count": 57,
   "id": "9277051e",
   "metadata": {},
   "outputs": [],
   "source": [
    "xbar = 12.20\n",
    "s = 2.50\n",
    "n = 40\n",
    "alpha = 0.01"
   ]
  },
  {
   "cell_type": "code",
   "execution_count": 58,
   "id": "73edfde2",
   "metadata": {},
   "outputs": [
    {
     "data": {
      "text/plain": [
       "0.3952847075210474"
      ]
     },
     "execution_count": 58,
     "metadata": {},
     "output_type": "execute_result"
    }
   ],
   "source": [
    "s / np.sqrt(n)"
   ]
  },
  {
   "cell_type": "code",
   "execution_count": 141,
   "id": "6b1c07b7",
   "metadata": {},
   "outputs": [
    {
     "data": {
      "text/plain": [
       "-2.5298221281347035"
      ]
     },
     "execution_count": 141,
     "metadata": {},
     "output_type": "execute_result"
    }
   ],
   "source": [
    "# Calculate the test statistic\n",
    "t_test = (xbar - 13.20)/(s/np.sqrt(n))\n",
    "t_test"
   ]
  },
  {
   "cell_type": "code",
   "execution_count": 148,
   "id": "182de9d1",
   "metadata": {},
   "outputs": [
    {
     "data": {
      "text/plain": [
       "0.0077816812266594355"
      ]
     },
     "execution_count": 148,
     "metadata": {},
     "output_type": "execute_result"
    }
   ],
   "source": [
    "# Calculate p-value\n",
    "pvalue = stats.t.cdf(t_test, 39)\n",
    "pvalue"
   ]
  },
  {
   "cell_type": "code",
   "execution_count": 149,
   "id": "d9e5a204",
   "metadata": {},
   "outputs": [
    {
     "name": "stdout",
     "output_type": "stream",
     "text": [
      "Reject the null\n"
     ]
    }
   ],
   "source": [
    "# Compare p-value and alpha\n",
    "alpha = 0.05\n",
    "\n",
    "if pvalue < alpha:\n",
    "    print(\"Reject the null\")\n",
    "else:\n",
    "    print(\"Fail to reject the null\")"
   ]
  },
  {
   "cell_type": "markdown",
   "id": "6df1c3ef",
   "metadata": {},
   "source": [
    "EXERCISE 4.Shear strength measurements derived from unconfined compression tests for two types of soils gave the results shown in the following document (measurements in tons per square foot). Do the soils appear to differ with respect to average shear strength, at the 1% significance level?\n",
    "\n",
    "Results for two type of soils\n",
    "\n",
    "CHECK: statistic: 5.1681473319343345, pvalue= 2.593228732352821e-06"
   ]
  },
  {
   "cell_type": "markdown",
   "id": "c13edbe9",
   "metadata": {},
   "source": [
    "ALIŞTIRMA 4. İki tür zemin için serbest sıkıştırma testlerinden elde edilen kayma mukavemeti ölçümleri, aşağıdaki belgede gösterilen sonuçları verdi (ölçümler, ton/ayak kare olarak). Zeminler, %1 anlamlılık düzeyinde, ortalama kayma mukavemetine göre farklılık gösteriyor mu?\n",
    "\n",
    "İki tür toprak için sonuçlar\n",
    "\n",
    "KONTROL: istatistik: 5,1681473319343345, pdeğeri= 2,593228732352821e-06"
   ]
  },
  {
   "cell_type": "code",
   "execution_count": 150,
   "id": "f299bc38",
   "metadata": {},
   "outputs": [],
   "source": [
    "df = pd.read_csv(\"soil.csv\")\n",
    "df.dropna(inplace=True)"
   ]
  },
  {
   "cell_type": "code",
   "execution_count": 151,
   "id": "6a8194d3",
   "metadata": {},
   "outputs": [
    {
     "data": {
      "text/plain": [
       "Ttest_relResult(statistic=5.309754126390885, pvalue=1.0725240883541837e-05)"
      ]
     },
     "execution_count": 151,
     "metadata": {},
     "output_type": "execute_result"
    }
   ],
   "source": [
    "pairedtest = stats.ttest_rel(df.Soil1, df.Soil2)\n",
    "pairedtest"
   ]
  },
  {
   "cell_type": "code",
   "execution_count": 110,
   "id": "4177832f",
   "metadata": {},
   "outputs": [
    {
     "data": {
      "text/plain": [
       "1.0725240883541837e-05"
      ]
     },
     "execution_count": 110,
     "metadata": {},
     "output_type": "execute_result"
    }
   ],
   "source": [
    "pairedtest.pvalue"
   ]
  },
  {
   "cell_type": "code",
   "execution_count": 108,
   "id": "87401146",
   "metadata": {},
   "outputs": [
    {
     "name": "stdout",
     "output_type": "stream",
     "text": [
      "Reject the null\n"
     ]
    }
   ],
   "source": [
    "# Compare p-value and alpha\n",
    "alpha = 0.01\n",
    "\n",
    "if pairedtest.pvalue < alpha:\n",
    "    print(\"Reject the null\")\n",
    "else:\n",
    "    print(\"Fail to reject the null\")"
   ]
  },
  {
   "cell_type": "code",
   "execution_count": 96,
   "id": "7334c69e",
   "metadata": {},
   "outputs": [
    {
     "data": {
      "text/plain": [
       "Ttest_indResult(statistic=5.134893443609086, pvalue=1.7201023218168238e-06)"
      ]
     },
     "execution_count": 96,
     "metadata": {},
     "output_type": "execute_result"
    }
   ],
   "source": [
    "indTest = stats.ttest_ind(df.Soil1, df.Soil2, alternative='greater')\n",
    "indTest"
   ]
  },
  {
   "cell_type": "markdown",
   "id": "11e9cabf",
   "metadata": {},
   "source": [
    "EXERCISE 5. The following dataset is based on data provided by the World Bank (https://datacatalog.worldbank.org/dataset/education-statistics). World Bank Edstats.  2015 PISA Test Dataset\n",
    "\n",
    "Get descriptive statistics (the central tendency, dispersion and shape of a dataset’s distribution) for each continent group (AS, EU, AF, NA, SA, OC).\n",
    "Determine whether there is any difference (on the average) for the math scores among European (EU) and Asian (AS) countries (assume normality and equal variances). Draw side-by-side box plots.\n",
    "CHECK: statistic=0.870055317967983, pvalue=0.38826888111307345"
   ]
  },
  {
   "cell_type": "markdown",
   "id": "19ed4d66",
   "metadata": {},
   "source": [
    "ALIŞTIRMA 5. Aşağıdaki veri seti, Dünya Bankası tarafından sağlanan verilere dayanmaktadır (https://datacatalog.worldbank.org/dataset/education-statistics). Dünya Bankası Edstats. 2015 PISA Testi Veri Kümesi\n",
    "\n",
    "Her kıta grubu (AS, AB, AF, NA, SA, OC) için tanımlayıcı istatistikler (bir veri kümesinin dağılımının merkezi eğilimi, dağılımı ve şekli) alın.\n",
    "Avrupa (AB) ve Asya (AS) ülkeleri arasında matematik puanları arasında (ortalama olarak) herhangi bir fark olup olmadığını belirleyin (normalliği ve eşit varyansları varsayın). Yan yana kutu grafikleri çizin.\n",
    "KONTROL EDİN: istatistik=0,870055317967983, pdeğer=0,38826888111307345"
   ]
  },
  {
   "cell_type": "code",
   "execution_count": 112,
   "id": "1a994ebd",
   "metadata": {},
   "outputs": [
    {
     "data": {
      "text/html": [
       "<div>\n",
       "<style scoped>\n",
       "    .dataframe tbody tr th:only-of-type {\n",
       "        vertical-align: middle;\n",
       "    }\n",
       "\n",
       "    .dataframe tbody tr th {\n",
       "        vertical-align: top;\n",
       "    }\n",
       "\n",
       "    .dataframe thead th {\n",
       "        text-align: right;\n",
       "    }\n",
       "</style>\n",
       "<table border=\"1\" class=\"dataframe\">\n",
       "  <thead>\n",
       "    <tr style=\"text-align: right;\">\n",
       "      <th></th>\n",
       "      <th>Country Code</th>\n",
       "      <th>Continent_Code</th>\n",
       "      <th>internet_users_per_100</th>\n",
       "      <th>Math</th>\n",
       "      <th>Reading</th>\n",
       "      <th>Science</th>\n",
       "    </tr>\n",
       "  </thead>\n",
       "  <tbody>\n",
       "    <tr>\n",
       "      <th>0</th>\n",
       "      <td>ALB</td>\n",
       "      <td>EU</td>\n",
       "      <td>63.252933</td>\n",
       "      <td>413.1570</td>\n",
       "      <td>405.2588</td>\n",
       "      <td>427.2250</td>\n",
       "    </tr>\n",
       "    <tr>\n",
       "      <th>1</th>\n",
       "      <td>ARE</td>\n",
       "      <td>AS</td>\n",
       "      <td>90.500000</td>\n",
       "      <td>427.4827</td>\n",
       "      <td>433.5423</td>\n",
       "      <td>436.7311</td>\n",
       "    </tr>\n",
       "    <tr>\n",
       "      <th>2</th>\n",
       "      <td>ARG</td>\n",
       "      <td>SA</td>\n",
       "      <td>68.043064</td>\n",
       "      <td>409.0333</td>\n",
       "      <td>425.3031</td>\n",
       "      <td>432.2262</td>\n",
       "    </tr>\n",
       "    <tr>\n",
       "      <th>3</th>\n",
       "      <td>AUS</td>\n",
       "      <td>OC</td>\n",
       "      <td>84.560519</td>\n",
       "      <td>493.8962</td>\n",
       "      <td>502.9006</td>\n",
       "      <td>509.9939</td>\n",
       "    </tr>\n",
       "    <tr>\n",
       "      <th>4</th>\n",
       "      <td>AUT</td>\n",
       "      <td>EU</td>\n",
       "      <td>83.940142</td>\n",
       "      <td>496.7423</td>\n",
       "      <td>484.8656</td>\n",
       "      <td>495.0375</td>\n",
       "    </tr>\n",
       "    <tr>\n",
       "      <th>...</th>\n",
       "      <td>...</td>\n",
       "      <td>...</td>\n",
       "      <td>...</td>\n",
       "      <td>...</td>\n",
       "      <td>...</td>\n",
       "      <td>...</td>\n",
       "    </tr>\n",
       "    <tr>\n",
       "      <th>65</th>\n",
       "      <td>TUN</td>\n",
       "      <td>AF</td>\n",
       "      <td>48.519836</td>\n",
       "      <td>366.8180</td>\n",
       "      <td>361.0555</td>\n",
       "      <td>386.4034</td>\n",
       "    </tr>\n",
       "    <tr>\n",
       "      <th>66</th>\n",
       "      <td>TUR</td>\n",
       "      <td>EU</td>\n",
       "      <td>53.744979</td>\n",
       "      <td>420.4540</td>\n",
       "      <td>428.3351</td>\n",
       "      <td>425.4895</td>\n",
       "    </tr>\n",
       "    <tr>\n",
       "      <th>67</th>\n",
       "      <td>URY</td>\n",
       "      <td>SA</td>\n",
       "      <td>64.600000</td>\n",
       "      <td>417.9919</td>\n",
       "      <td>436.5721</td>\n",
       "      <td>435.3630</td>\n",
       "    </tr>\n",
       "    <tr>\n",
       "      <th>68</th>\n",
       "      <td>USA</td>\n",
       "      <td>NaN</td>\n",
       "      <td>74.554202</td>\n",
       "      <td>469.6285</td>\n",
       "      <td>496.9351</td>\n",
       "      <td>496.2424</td>\n",
       "    </tr>\n",
       "    <tr>\n",
       "      <th>69</th>\n",
       "      <td>VNM</td>\n",
       "      <td>AS</td>\n",
       "      <td>43.500000</td>\n",
       "      <td>494.5183</td>\n",
       "      <td>486.7738</td>\n",
       "      <td>524.6445</td>\n",
       "    </tr>\n",
       "  </tbody>\n",
       "</table>\n",
       "<p>70 rows × 6 columns</p>\n",
       "</div>"
      ],
      "text/plain": [
       "   Country Code Continent_Code  internet_users_per_100      Math   Reading  \\\n",
       "0           ALB             EU               63.252933  413.1570  405.2588   \n",
       "1           ARE             AS               90.500000  427.4827  433.5423   \n",
       "2           ARG             SA               68.043064  409.0333  425.3031   \n",
       "3           AUS             OC               84.560519  493.8962  502.9006   \n",
       "4           AUT             EU               83.940142  496.7423  484.8656   \n",
       "..          ...            ...                     ...       ...       ...   \n",
       "65          TUN             AF               48.519836  366.8180  361.0555   \n",
       "66          TUR             EU               53.744979  420.4540  428.3351   \n",
       "67          URY             SA               64.600000  417.9919  436.5721   \n",
       "68          USA            NaN               74.554202  469.6285  496.9351   \n",
       "69          VNM             AS               43.500000  494.5183  486.7738   \n",
       "\n",
       "     Science  \n",
       "0   427.2250  \n",
       "1   436.7311  \n",
       "2   432.2262  \n",
       "3   509.9939  \n",
       "4   495.0375  \n",
       "..       ...  \n",
       "65  386.4034  \n",
       "66  425.4895  \n",
       "67  435.3630  \n",
       "68  496.2424  \n",
       "69  524.6445  \n",
       "\n",
       "[70 rows x 6 columns]"
      ]
     },
     "execution_count": 112,
     "metadata": {},
     "output_type": "execute_result"
    }
   ],
   "source": [
    "df1 = pd.read_csv(\"PISATest.csv\")\n",
    "df1"
   ]
  },
  {
   "cell_type": "code",
   "execution_count": 134,
   "id": "0ff6e77e",
   "metadata": {},
   "outputs": [
    {
     "data": {
      "image/png": "[encoded data removed]",
      "text/plain": [
       "<Figure size 432x288 with 1 Axes>"
      ]
     },
     "metadata": {
      "needs_background": "light"
     },
     "output_type": "display_data"
    }
   ],
   "source": [
    "sns.boxplot(y = df1.Continent_Code,  x = df1.Math);"
   ]
  },
  {
   "cell_type": "code",
   "execution_count": null,
   "id": "db635bc0",
   "metadata": {},
   "outputs": [],
   "source": [
    "from scipy.stats import f_oneway"
   ]
  },
  {
   "cell_type": "code",
   "execution_count": 153,
   "id": "2ae3ad8e",
   "metadata": {},
   "outputs": [
    {
     "data": {
      "text/plain": [
       "F_onewayResult(statistic=0.7569962563243571, pvalue=0.3882688811130768)"
      ]
     },
     "execution_count": 153,
     "metadata": {},
     "output_type": "execute_result"
    }
   ],
   "source": [
    "anova_test = f_oneway((df1.Math[df1.Continent_Code == \"AS\"]), (df1.Math[df1.Continent_Code == \"EU\"]))\n",
    "anova_test"
   ]
  }
 ],
 "metadata": {
  "kernelspec": {
   "display_name": "Python 3 (ipykernel)",
   "language": "python",
   "name": "python3"
  },
  "language_info": {
   "codemirror_mode": {
    "name": "ipython",
    "version": 3
   },
   "file_extension": ".py",
   "mimetype": "text/x-python",
   "name": "python",
   "nbconvert_exporter": "python",
   "pygments_lexer": "ipython3",
   "version": "3.9.12"
  }
 },
 "nbformat": 4,
 "nbformat_minor": 5
}
